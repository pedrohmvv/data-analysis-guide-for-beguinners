{
 "cells": [
  {
   "cell_type": "markdown",
   "metadata": {},
   "source": [
    "<a href=\"https://lema.ufpb.br/\"><img src=\"https://i.ibb.co/frrLnny/9-removebg-preview.png\" alt=\"9-removebg-preview\" border=\"0\" width=\"400\" title=\"Logo-LEMA\"></a>\n",
    "\n",
    "MIT License\n",
    "\n",
    "Copyright (c) 2025 Laboratório de Estudos em Modelagem Aplicada - UFPB \n",
    "\n",
    "Permission is hereby granted, free of charge, to any person obtaining a copy\n",
    "of this software and associated documentation files (the \"Software\"), to deal\n",
    "in the Software without restriction, including without limitation the rights\n",
    "to use, copy, modify, merge, publish, distribute, sublicense, and/or sell\n",
    "copies of the Software, and to permit persons to whom the Software is\n",
    "furnished to do so, subject to the following conditions:\n",
    "\n",
    "The above copyright notice and this permission notice shall be included in all\n",
    "copies or substantial portions of the Software.\n",
    "\n",
    "THE SOFTWARE IS PROVIDED \"AS IS\", WITHOUT WARRANTY OF ANY KIND, EXPRESS OR\n",
    "IMPLIED, INCLUDING BUT NOT LIMITED TO THE WARRANTIES OF MERCHANTABILITY,\n",
    "FITNESS FOR A PARTICULAR PURPOSE AND NONINFRINGEMENT. IN NO EVENT SHALL THE\n",
    "AUTHORS OR COPYRIGHT HOLDERS BE LIABLE FOR ANY CLAIM, DAMAGES OR OTHER\n",
    "LIABILITY, WHETHER IN AN ACTION OF CONTRACT, TORT OR OTHERWISE, ARISING FROM,\n",
    "OUT OF OR IN CONNECTION WITH THE SOFTWARE OR THE USE OR OTHER DEALINGS IN THE\n",
    "SOFTWARE."
   ]
  },
  {
   "cell_type": "markdown",
   "metadata": {},
   "source": [
    "Autor: Pedro Henrique Medeiros Vieira"
   ]
  },
  {
   "cell_type": "markdown",
   "metadata": {},
   "source": [
    "> <span style='color:red'>**ANTES DE TUDO!!**</span>\n",
    "\n",
    "**!! Para garantir que todas as dependências estão instaladas corretamente, rode a célula notebook abaixo. !!**\n",
    "\n",
    "Ele criará um ambiente virtual no seu projeto, para poder instalar as dependências sem conflito algum.\n",
    "\n",
    "Vai demorar mesmo, não cancele."
   ]
  },
  {
   "cell_type": "code",
   "execution_count": null,
   "metadata": {},
   "outputs": [],
   "source": [
    "import os\n",
    "import subprocess\n",
    "import sys\n",
    "\n",
    "# Diretório do projeto\n",
    "path = os.getcwd()\n",
    "\n",
    "# Nome do ambiente virtual\n",
    "venv_dir = os.path.join(path, \"venv\")\n",
    "\n",
    "# Criação do ambiente virtual\n",
    "subprocess.run([sys.executable, \"-m\", \"venv\", venv_dir])\n",
    "\n",
    "# Ativação do ambiente virtual conforme o sistema operacional\n",
    "if os.name == \"nt\":  # Windows\n",
    "    activate_script = os.path.join(venv_dir, \"Scripts\", \"activate\")\n",
    "else:  # Linux/Mac\n",
    "    activate_script = os.path.join(venv_dir, \"bin\", \"activate\")\n",
    "\n",
    "# Determina qual comando pip usar dentro do ambiente virtual\n",
    "pip_cmd = os.path.join(venv_dir, \"Scripts\" if os.name == \"nt\" else \"bin\", \"pip\")\n",
    "\n",
    "# Instala os pacotes do requirements.txt\n",
    "cmd = f\"{pip_cmd} install -r requirements.txt\"\n",
    "subprocess.run(cmd, shell=True)\n",
    "\n",
    "print(\"Ambiente virtual criado e pacotes instalados com sucesso!\")"
   ]
  },
  {
   "cell_type": "markdown",
   "metadata": {},
   "source": [
    "---"
   ]
  },
  {
   "cell_type": "markdown",
   "metadata": {},
   "source": [
    "## **Introdução a Técnicas de Análise de Dados**\n",
    "\n",
    "Nesse notebook, serão apresentadas as principais atividades de Análise de Dados, utilizando a biblioteca `pandas`, a principal para Análise de Dados.\n",
    "\n",
    "**Pandas** é uma biblioteca de código aberto para manipulação e análise de dados em Python. Ele fornece estruturas de dados e ferramentas eficientes para trabalhar com grandes volumes de informação.\n",
    "\n",
    "O pandas trabalha com dois tipos de objetos principais:\n",
    "* ``Series (pd.Series)`` → Coluna única com rótulo de índice.\n",
    "* ``DataFrame (pd.DataFrame)`` → Tabela bidimensional (como uma planilha do Excel).\n",
    "\n",
    "Principais funcionalidades do Pandas:\n",
    "1. Leitura e Escrita de Arquivos\n",
    "2. Estruturas de Dados Principais\n",
    "3. Exploração de Dados\n",
    "4. Seleção e Filtragem\n",
    "5. Filtragem condicional\n",
    "6. Limpeza e Transformação\n",
    "7. Lidar com valores nulos\n",
    "8. Remover duplicatas\n",
    "9. Renomear colunas\n",
    "10. Criar novas colunas\n",
    "11. Análise Estatística\n",
    "12. Visualização de Dados (Pandas + Matplotlib/Seaborn)\n",
    "\n",
    "Além disso, vamos trabalhar brevemente uma biblioteca de visualização para análise exploratória, para entender melhor os dados os dados.\n",
    "\n",
    "Ela é: ``matplotlib``.\n"
   ]
  },
  {
   "cell_type": "markdown",
   "metadata": {},
   "source": [
    "---"
   ]
  },
  {
   "cell_type": "markdown",
   "metadata": {},
   "source": [
    "## **Preparação de ambiente**\n",
    "\n",
    "Vamos importar todas as bibliotecas ou funções específicas necessárias, por equanto"
   ]
  },
  {
   "cell_type": "code",
   "execution_count": null,
   "metadata": {},
   "outputs": [],
   "source": [
    "from pandas import read_csv # Leitura de arquivos CSV\n",
    "import matplotlib.pyplot as plt # Plotagem de gráficos\n",
    "from warnings import filterwarnings # Ignorar warnings\n",
    "\n",
    "filterwarnings(\"ignore\")"
   ]
  },
  {
   "cell_type": "markdown",
   "metadata": {},
   "source": [
    "---"
   ]
  },
  {
   "cell_type": "markdown",
   "metadata": {},
   "source": [
    "## **Os Dados**\n",
    "\n"
   ]
  },
  {
   "cell_type": "markdown",
   "metadata": {},
   "source": [
    "### **Imóveis para Aluguel em Dubai**\n",
    "\n",
    "O arquivo `.csv` dos dados se encontra na pasta `data` -> `data/data.csv`\n",
    "\n",
    "#### **Resumo**  \n",
    "Este conjunto de dados contém informações sobre imóveis listados para aluguel em Dubai, incluindo características do imóvel, localização, preço, contato do anunciante e data de listagem, obtidos por Web-Scrapping do site: https://www.propertyfinder.ae/en/rent/properties-for-rent.html\n",
    "\n",
    "#### **Dicionário**  \n",
    "| **Coluna**       | **Descrição**                                                                 |\n",
    "|-----------------|-----------------------------------------------------------------------------|\n",
    "| **Resume**      | Resumo do anúncio, geralmente destacando características principais do imóvel. |\n",
    "| **Price**       | Preço do aluguel do imóvel (AED por ano).                                      |\n",
    "| **Location**    | Endereço detalhado do imóvel, incluindo bairro e cidade.                      |\n",
    "| **Bedrooms**    | Número de quartos no imóvel.                                                 |\n",
    "| **Bathrooms**   | Número de banheiros no imóvel.                                               |\n",
    "| **Area**        | Área total do imóvel (em pés quadrados).                                      |\n",
    "| **Link**        | URL do anúncio original na plataforma Property Finder.                        |\n",
    "| **Contact**     | Número de telefone do anunciante.                                            |\n",
    "| **Listing Time** | Tempo desde que o imóvel foi listado para aluguel (exemplo: \"Listed 8 days ago\"). |"
   ]
  },
  {
   "cell_type": "markdown",
   "metadata": {},
   "source": [
    "---"
   ]
  },
  {
   "cell_type": "markdown",
   "metadata": {},
   "source": [
    "## **Leitura de Dados**"
   ]
  },
  {
   "cell_type": "markdown",
   "metadata": {},
   "source": [
    "A leitura de dados é a primeira etapa no processamento de um dataset e consiste em importar informações de diferentes formatos para análise. No Pandas, usamos funções específicas para carregar arquivos comuns, como:\n",
    "\n",
    "* **CSV**: ``pd.read_csv(\"arquivo.csv\")``\n",
    "* **Excel**: ``pd.read_excel(\"arquivo.xlsx\")``\n",
    "* **JSON**: ``pd.read_json(\"arquivo.json\")``\n",
    "* **SQL**: ``pd.read_sql(query, conexão)``"
   ]
  },
  {
   "cell_type": "markdown",
   "metadata": {},
   "source": [
    "Aqui, vamos ler os dados obtidos a partir do webscrapping, com o próprio ``pandas``,\n",
    "\n",
    "A função que vamos utilizar nesse caso, será a `read_csv`. Ela é usada para ler arquivos em texto em que os dados são separados por alguma pontuação.\n",
    "Geralmente, a pontuação utilizada é a $,$ . \n",
    "\n",
    "Arquivos **CSV** _(Comma Separated Values / Valores Separados por Vírgula)_ são os principais arquivos utilizados para armazenar dados.\n",
    "\n",
    "Nele, as colunas e os dados são separados por algum delimitador, que geralmente é a vírgula ','. Mas também podemos encontrar arquivos separados por\n",
    "'|' ou ';'.\n",
    "\n",
    "Exemplo: \n",
    "\n",
    "ID,Nome,Idade<br>\n",
    "1,Ana,25<br>\n",
    "2,Breno,30<br>\n",
    "3,Carla,28<br>\n",
    "4,Daniel,22<br>\n",
    "5,Elisa,27<br>\n"
   ]
  },
  {
   "cell_type": "markdown",
   "metadata": {},
   "source": [
    "### `pd.read_csv()`\n",
    "\n",
    "```python\n",
    "pd.read_csv(\n",
    "    filepath_or_buffer:str = 'ARQUIVO.csv', # Caminho do arquivo ou LINK NA WEB\n",
    "    sep:str, # Separador de colunas\n",
    "    header:int, # Linha de cabeçalho\n",
    "    skiprows:int, # Linhas a serem puladas\n",
    "    skipfooter:int, # Linhas a serem puladas no final\n",
    "    nrows:int, # Número de linhas a serem lidas \n",
    "    usecols:list, # Colunas a serem lidas\n",
    "    decimal:str, # Caractere decimal\n",
    "    encoding:str\n",
    ")\n",
    "```"
   ]
  },
  {
   "cell_type": "code",
   "execution_count": null,
   "metadata": {},
   "outputs": [],
   "source": [
    "from pandas import read_csv\n",
    "\n",
    "caminho_arquivo = 'data/data.csv'\n",
    "df = read_csv(caminho_arquivo)\n",
    "\n",
    "# Mostra as primeiras\n",
    "df.head(n=5)"
   ]
  },
  {
   "cell_type": "markdown",
   "metadata": {},
   "source": [
    "---"
   ]
  },
  {
   "cell_type": "markdown",
   "metadata": {},
   "source": [
    "## **Descrição dos dados**"
   ]
  },
  {
   "cell_type": "markdown",
   "metadata": {},
   "source": [
    "A descrição dos dados ajuda a entender suas características estatísticas e distribuição. No Pandas, utilizamos:\n",
    "\n",
    "* ``df.info()`` → Exibe tipos de dados, contagem de valores não nulos e colunas.\n",
    "* ``df.describe()`` → Retorna estatísticas descritivas como:\n",
    "    * **Média (mean)**: Valor médio dos dados.\n",
    "    * **Desvio padrão (std)**: Mede a dispersão dos valores.\n",
    "    * **Mínimo e Máximo (min, max)**: Valores extremos.\n",
    "    * **Quartis (25%, 50%, 75%)**: Posições na distribuição dos dados.\n",
    "\n",
    "Essas informações ajudam a identificar padrões, outliers e a necessidade de transformações antes da análise mais aprofundada."
   ]
  },
  {
   "cell_type": "markdown",
   "metadata": {},
   "source": [
    "### **Informações gerais**"
   ]
  },
  {
   "cell_type": "code",
   "execution_count": null,
   "metadata": {},
   "outputs": [],
   "source": [
    "# Info\n",
    "df.info()"
   ]
  },
  {
   "cell_type": "markdown",
   "metadata": {},
   "source": [
    "### **Explicação dos Dados**\n",
    "\n",
    "O dataset contém **20 entradas** e **9 colunas**, descritas a seguir:\n",
    "\n",
    "1. **Resume (object)** → Resumo da propriedade (texto).\n",
    "2. **Price (object)** → Preço do imóvel, inicialmente uma string com símbolos e separadores.\n",
    "3. **Location (object)** → Localização da propriedade (endereço ou bairro).\n",
    "4. **Bedrooms (object)** → Número de quartos, mas armazenado como texto.\n",
    "5. **Bathrooms (int64)** → Número de banheiros (formato numérico correto).\n",
    "6. **Area (object)** → Área do imóvel, originalmente uma string com separadores numéricos.\n",
    "7. **Link (object)** → URL do anúncio da propriedade.\n",
    "8. **Contact (object)** → Informações de contato do anunciante.\n",
    "9. **Listing Time (object)** → Tempo desde a publicação do anúncio, inicialmente um texto.\n",
    "\n",
    "A partir disso, já conseguem notar algo de errado nesses dados?"
   ]
  },
  {
   "cell_type": "code",
   "execution_count": null,
   "metadata": {},
   "outputs": [],
   "source": [
    "# Describe\n",
    "df.describe()"
   ]
  },
  {
   "cell_type": "markdown",
   "metadata": {},
   "source": [
    "---"
   ]
  },
  {
   "cell_type": "markdown",
   "metadata": {},
   "source": [
    "## **Acessando Colunas**\n",
    "\n",
    "Lembre, tudo em python é um objeto, portanto, o objeto `DataFrame` possui seus atributos e funções.\n",
    "\n",
    "E o `DataFrame` é composto por objetos `Series()`, que correspondem as colunas do DataFrame, ou seja, cada coluna é um objeto `Series()`.\n",
    "\n",
    "Nós podemos acessá-los por meio de duas maneiras:\n",
    "*   ```python\n",
    "    dataframe['coluna']\n",
    "    ```\n",
    "*   ```python\n",
    "    dataframe.coluna\n",
    "    ```\n",
    "\n"
   ]
  },
  {
   "cell_type": "code",
   "execution_count": null,
   "metadata": {},
   "outputs": [],
   "source": [
    "# Acessando a coluna Area por CHAVE\n",
    "print(df['Area'].head(), '\\n')\n",
    "print('Objeto: ', type(df['Area']))"
   ]
  },
  {
   "cell_type": "code",
   "execution_count": null,
   "metadata": {},
   "outputs": [],
   "source": [
    "# Acessando a coluna Area por ATRIBUTO\n",
    "print(df.Area.head(), '\\n')\n",
    "print('Objeto: ', type(df.Area))"
   ]
  },
  {
   "cell_type": "markdown",
   "metadata": {},
   "source": [
    "#### **Podemos também acessar várias colunas**\n",
    "\n",
    "Para isso, passamos uma lista de colunas."
   ]
  },
  {
   "cell_type": "code",
   "execution_count": null,
   "metadata": {},
   "outputs": [],
   "source": [
    "# Acessando várias colunas\n",
    "colunas = ['Resume', 'Area', 'Bathrooms', 'Bedrooms']\n",
    "display(df[colunas].head())\n",
    "print('\\nObjeto: ', type(df[colunas]))"
   ]
  },
  {
   "cell_type": "markdown",
   "metadata": {},
   "source": [
    "#### **Selecionando colunas com base em seu tipo**\n",
    "\n",
    "Isso pode ser útil para verificar se alguma coluna está em um formato que não deveria estar."
   ]
  },
  {
   "cell_type": "code",
   "execution_count": null,
   "metadata": {},
   "outputs": [],
   "source": [
    "# Selecioando colunas objeto (string)\n",
    "df.select_dtypes(include='object').head(2)"
   ]
  },
  {
   "cell_type": "code",
   "execution_count": null,
   "metadata": {},
   "outputs": [],
   "source": [
    "# Selecioando colunas numero\n",
    "df.select_dtypes(include='number').head(2)"
   ]
  },
  {
   "cell_type": "markdown",
   "metadata": {},
   "source": [
    "#### **Todas as colunas**"
   ]
  },
  {
   "cell_type": "code",
   "execution_count": null,
   "metadata": {},
   "outputs": [],
   "source": [
    "df.columns"
   ]
  },
  {
   "cell_type": "markdown",
   "metadata": {},
   "source": [
    "Perceba que, não há colunas numéricas, mesmo havendo colunas de 'preço', 'área', 'quantidade de quartos' e 'quantidade de banheiros'.\n",
    "\n",
    "Por isso precisamos limpar esses dados e corrigí-los."
   ]
  },
  {
   "cell_type": "markdown",
   "metadata": {},
   "source": [
    "---"
   ]
  },
  {
   "cell_type": "markdown",
   "metadata": {},
   "source": [
    "## **Limpeza e Tratamento de Dados**\n",
    "\n",
    "A **limpeza e tratamento de dados** são etapas essenciais no processo de análise e modelagem de dados, garantindo que as informações sejam confiáveis e utilizáveis. Esse processo envolve a identificação e correção de inconsistências, remoção de dados duplicados, tratamento de valores ausentes e outliers, além da padronização e transformação de variáveis para adequação ao modelo.  \n",
    "\n",
    "#### **Principais Etapas:**  \n",
    "1. **Identificação de Problemas** – Detecção de valores ausentes, duplicados e inconsistentes.  \n",
    "2. **Remoção ou Imputação de Valores Ausentes** – Substituição por médias, medianas ou valores específicos.  \n",
    "3. **Tratamento de Duplicatas** – Exclusão de registros repetidos para evitar distorções.  \n",
    "4. **Correção de Erros e Inconsistências** – Padronização de formatos e ajustes de dados incorretos.  \n",
    "5. **Tratamento de Outliers** – Identificação e remoção ou transformação de valores extremos.  \n",
    "6. **Conversão e Normalização de Dados** – Ajuste de escalas e tipos de dados conforme necessário.  \n",
    "\n",
    "Uma boa limpeza e tratamento de dados impacta diretamente a qualidade das análises e modelos preditivos, tornando os resultados mais confiáveis e interpretáveis."
   ]
  },
  {
   "cell_type": "markdown",
   "metadata": {},
   "source": [
    "#### **1 - Identicação de Problemas**"
   ]
  },
  {
   "cell_type": "markdown",
   "metadata": {},
   "source": [
    "**Coluna espaçada**"
   ]
  },
  {
   "cell_type": "markdown",
   "metadata": {},
   "source": [
    "Como mudar o nome de uma coluna?\n",
    "\n",
    "```python\n",
    "# Mudando colunas específicas\n",
    "DataFrame.rename(\n",
    "    columns={'ANTIGA COLUNA':'NOVA_COLUNA', 'ANTIGA COLUNA2':'NOVA_COLUNA2'},\n",
    "    inplace=True\n",
    ") # Inplace executa a função no próprio df em memória\n",
    "\n",
    "\"\"\"OU\"\"\"\n",
    "\n",
    "# Nesse método você troca todas as colunas\n",
    "colunas_rename = ['COLUNA1', 'COLUNA2', 'COLUNA3', 'COLUNA4'] # Precisa ser do exato número de colunas originais\n",
    "DataFrame.columns = colunas_rename\n",
    "```"
   ]
  },
  {
   "cell_type": "code",
   "execution_count": null,
   "metadata": {},
   "outputs": [],
   "source": [
    "print(f'Colunas antes: {df.columns}\\n')\n",
    "df.rename(columns={'Listing Time': 'Listing_Time'}, inplace=True)\n",
    "print(f'Colunas depois: {df.columns}')"
   ]
  },
  {
   "cell_type": "markdown",
   "metadata": {},
   "source": [
    "#### **Verificando valores nulos**"
   ]
  },
  {
   "cell_type": "code",
   "execution_count": null,
   "metadata": {},
   "outputs": [],
   "source": [
    "df.info()"
   ]
  },
  {
   "cell_type": "code",
   "execution_count": null,
   "metadata": {},
   "outputs": [],
   "source": [
    "# Removendo colunas\n",
    "df.isna().sum()"
   ]
  },
  {
   "cell_type": "markdown",
   "metadata": {},
   "source": [
    "A coluna ``Bathrooms`` possui 3 valores nulos, e ``Bedrooms`` possui 1 valor nulo."
   ]
  },
  {
   "cell_type": "markdown",
   "metadata": {},
   "source": [
    "#### **Analisando valores fora do formato correto**"
   ]
  },
  {
   "cell_type": "code",
   "execution_count": null,
   "metadata": {},
   "outputs": [],
   "source": [
    "df.select_dtypes(include='object').head(2)"
   ]
  },
  {
   "cell_type": "markdown",
   "metadata": {},
   "source": [
    "Essas colunas deveriam ser numéricas mas estão como objeto.\n",
    "\n",
    "* Price \n",
    "* Bedrooms\t\n",
    "* Bathrooms\n",
    "* Area\t\n",
    "* Listing Time\n",
    "\n",
    "Perceba que, não consigo fazer operações matemáticas com nenhuma delas."
   ]
  },
  {
   "cell_type": "code",
   "execution_count": null,
   "metadata": {},
   "outputs": [],
   "source": [
    "print('Tentando somar coluna \"Area\": ', df.select_dtypes(include='object')['Area'].sum())"
   ]
  },
  {
   "cell_type": "markdown",
   "metadata": {},
   "source": [
    "Além disso, já encontramos outro problema. Há um valor 'studio' na coluna de quartos. \n",
    "Isso provavelmente acontece quando um imóvel se classifica como  'kitnet', que também é uma denotação para 'studio', pois não há quartos.\n",
    "\n",
    "Já podemos criar uma hipótese e verificá-la quando os dados forem tratados.\n",
    "\n",
    "$\\textbf{Hipótese}: \\text{Quando a área for menor que algum valor X, podemos classificar como 'studio'}$"
   ]
  },
  {
   "cell_type": "markdown",
   "metadata": {},
   "source": [
    "#### **2 - Remoção ou Imputação de Valores Ausentes**"
   ]
  },
  {
   "cell_type": "markdown",
   "metadata": {},
   "source": [
    "#### **Como tratar valores nulos?**\n",
    "\n",
    "* Podemos substituir por uma constante.\n",
    "\n",
    "ou\n",
    "\n",
    "* Podemos dropá-los.\n",
    "\n",
    "Dependerá do contexto."
   ]
  },
  {
   "cell_type": "markdown",
   "metadata": {},
   "source": [
    "**Substituindo**"
   ]
  },
  {
   "cell_type": "markdown",
   "metadata": {},
   "source": [
    "> **!**: Não é boa prática substituir por 0, pois pode enviesar os dados!\n",
    "\n",
    "Pode-se substituir pela média, mas ainda assim, o valor nulo pode ser um outlier, e assim estaríamos normalizando-o.\n",
    "\n",
    "Isso serve apenas de exemplo, tudo depende do contexto."
   ]
  },
  {
   "cell_type": "code",
   "execution_count": null,
   "metadata": {},
   "outputs": [],
   "source": [
    "# Criando uma cópia para não alterar o DataFrame original\n",
    "df_sub = df.copy()\n",
    "\n",
    "# Quartos\n",
    "indice_nulo_quartos = df[df['Bedrooms'].isna()].index # Explicarei filtragem mais para frente\n",
    "\n",
    "print('Linhas com valor do banheiro Nulo: ')\n",
    "display(df.iloc[indice_nulo_quartos])\n",
    "\n",
    "indice_nulo_banheiros = df[df['Bathrooms'].isna()].index # Explicarei filtragem mais para frente\n",
    "\n",
    "print('Linhas com valor do banheiro Nulo: ')\n",
    "display(df.iloc[indice_nulo_banheiros])\n"
   ]
  },
  {
   "cell_type": "code",
   "execution_count": null,
   "metadata": {},
   "outputs": [],
   "source": [
    "# Substituir por algo, por exemplo 0\n",
    "df_sub['Bedrooms'].fillna(0, inplace=True)\n",
    "df_sub['Bathrooms'].fillna(0, inplace=True)\n",
    "\n",
    "# Verificando se ainda existem valores nulos\n",
    "print(\"Após dropar valores nulos\\n\")\n",
    "print('Banheiros')\n",
    "display(df_sub.iloc[indice_nulo_banheiros])\n",
    "\n",
    "print('\\nQuartos')\n",
    "display(df_sub.iloc[indice_nulo_quartos])"
   ]
  },
  {
   "cell_type": "markdown",
   "metadata": {},
   "source": [
    "**Dropando**"
   ]
  },
  {
   "cell_type": "markdown",
   "metadata": {},
   "source": [
    "Como são poucos dados nuloes e no caso seria o mais adequado a se fazer, vou excluir as linhas com valores nulos no DataFrame original, enão em uma cópia, como anteriormente."
   ]
  },
  {
   "cell_type": "code",
   "execution_count": null,
   "metadata": {},
   "outputs": [],
   "source": [
    "print('Antes: Tamanho do DataFrame: ', len(df))\n",
    "print(df.isna().sum())\n",
    "\n",
    "# Dropando\n",
    "df.dropna(inplace=True)\n",
    "\n",
    "print('\\nDepois Tamanho do DataFrame: ', len(df))\n",
    "print(df.isna().sum())"
   ]
  },
  {
   "cell_type": "markdown",
   "metadata": {},
   "source": [
    "#### **3 - Correção de Dados**\n",
    "\n",
    "Alguns dados veem em formatos errados apenas por possuírem um valor incorreto, como um caracter em uma coluna que deveria ser numérica, por exemplo.\n",
    "\n",
    "Para isso, podemos corrigir esses dados e torná-los utilizáveis."
   ]
  },
  {
   "cell_type": "markdown",
   "metadata": {},
   "source": [
    "Como definimos antes, essas são as colunas erradas.\n",
    "\n",
    "* Price \n",
    "* Bedrooms\t\n",
    "* Bathrooms\n",
    "* Area\t\n",
    "* Listing Time"
   ]
  },
  {
   "cell_type": "code",
   "execution_count": null,
   "metadata": {},
   "outputs": [],
   "source": [
    "fix_columns = ['Area', 'Price', 'Listing_Time','Bedrooms']\n",
    "df[fix_columns].head()"
   ]
  },
  {
   "cell_type": "markdown",
   "metadata": {},
   "source": [
    "Erros:\n",
    "* Area: caracteres informando '$\\text{pés}^2$' (sqft -> square feet). Decimal ','.\n",
    "* Price: caracteres informando aluguel anual. Decimal ','.\n",
    "* Listing Time: caracteres informando os dias em que o imóvel foi anunciado."
   ]
  },
  {
   "cell_type": "markdown",
   "metadata": {},
   "source": [
    "Para identificar os erros melhor nos quartos e banheiros, vou verificar os valores `Únicos` da coluna com o método:\n",
    "\n",
    "```python\n",
    "DataFrame['COLUNA'].unique() # Retorna uma lista com os valores únicos da COLUNA\n",
    "```"
   ]
  },
  {
   "cell_type": "code",
   "execution_count": null,
   "metadata": {},
   "outputs": [],
   "source": [
    "unicos_banheiros = df['Bathrooms'].unique()\n",
    "unicos_quartos = df['Bedrooms'].unique()\n",
    "\n",
    "print(f'Únicos banheiros: {unicos_banheiros}')\n",
    "print(f'Únicos quartos: {unicos_quartos}')"
   ]
  },
  {
   "cell_type": "markdown",
   "metadata": {},
   "source": [
    "Perceba que, temos os valores 'studio' e '7+' que tornam a coluna `Bedrooms` em texto.\n",
    "\n",
    "Para `studio` vou transformar em 0, visto que o próprio imóvel é o quarto.\n",
    "\n",
    "Para `7+` Vou transformar em 8, visto que se é mais que 7, temos a garantia de que é pelo menos 8."
   ]
  },
  {
   "cell_type": "code",
   "execution_count": null,
   "metadata": {},
   "outputs": [],
   "source": [
    "# Criando um mapa de conversão\n",
    "map_banheiros_quartos = {'studio':0, '7+':8}\n",
    "\n",
    "# Substituindi os valores e convertendo para 'inteiro'.\n",
    "df['Bedrooms'] = df['Bedrooms'].replace(map_banheiros_quartos).astype(int)\n",
    "df['Bathrooms'] = df['Bathrooms'].replace(map_banheiros_quartos).astype(int)\n",
    "\n",
    "# Obtendo os valores únicos\n",
    "unicos_banheiros = df['Bathrooms'].unique()\n",
    "unicos_quartos = df['Bedrooms'].unique()\n",
    "\n",
    "print(f'Únicos banheiros após transformação: {unicos_banheiros}')\n",
    "print(f'Únicos quartos após transformação: {unicos_quartos}')\n",
    "\n",
    "print(f'\\nTipo da coluna Banheiro: {df[\"Bathrooms\"].dtype}')\n",
    "print(f'Tipo da coluna Quarto: {df[\"Bedrooms\"].dtype}')"
   ]
  },
  {
   "cell_type": "markdown",
   "metadata": {},
   "source": [
    "> <span style='color:red'>**Explicação do código**</span>\n",
    "\n",
    "Este código faz a **padronização de dados quantitativos** em um DataFrame.  \n",
    "\n",
    "🔹 **Passo a passo:**  \n",
    "1. **Criando um dicionário de conversão:**  \n",
    "   ```python\n",
    "   map_banheiros_quartos = {'studio': 0, '7+': 8}\n",
    "   ```\n",
    "   - Converte `\"studio\"` para `0` e `\"7+\"` para `8`.  \n",
    "\n",
    "2. **Substituindo os valores e convertendo para inteiro:**  \n",
    "   ```python\n",
    "   df['Bedrooms'] = df['Bedrooms'].replace(map_banheiros_quartos).astype(int)\n",
    "   df['Bathrooms'] = df['Bathrooms'].replace(map_banheiros_quartos).astype(int)\n",
    "   ```\n",
    "   - Aplica a conversão e transforma as colunas `Bedrooms` e `Bathrooms` em valores numéricos (`int`)."
   ]
  },
  {
   "cell_type": "markdown",
   "metadata": {},
   "source": [
    "### **Corrigindo Area**"
   ]
  },
  {
   "cell_type": "code",
   "execution_count": null,
   "metadata": {},
   "outputs": [],
   "source": [
    "# Substituindo valores (Explicação detalhada a abaixo)\n",
    "df['Area'] = df['Area'].str.split(' ').str[0].str.replace(',', '')\n",
    "\n",
    "print(df['Area'].head())\n",
    "print('Tipo: ', df['Area'].dtype, '\\n')\n",
    "\n",
    "df['Area'] = df['Area'].astype(float)\n",
    "\n",
    "print(df['Area'].head())\n",
    "print('Tipo: ', df['Area'].dtype)"
   ]
  },
  {
   "cell_type": "markdown",
   "metadata": {},
   "source": [
    "> <span style='color:red'>**Explicação do código**</span>"
   ]
  },
  {
   "cell_type": "markdown",
   "metadata": {},
   "source": [
    "Este código realiza a conversão de uma coluna chamada **\"Area\"** de um DataFrame Pandas de um formato de string para um tipo numérico (**int**).  \n",
    "\n",
    "### **Passo a Passo:**\n",
    "1. **`df['Area'].str.split(' ').str[0]`**  \n",
    "   - Divide os valores da coluna **\"Area\"** por espaços e mantém apenas a primeira parte (antes do espaço). Isso é útil nesse caso pois a área está acompanhada de uma unidade de medida: **\"100 sqft\"** → **\"100\"**.  \n",
    "\n",
    "2. **`.str.replace(',', '')`**  \n",
    "   - Remove qualquer **vírgula**: **\"1,000\"** → **\"1000\"**.  \n",
    "\n",
    "3. **`print(df['Area'].head())`**  \n",
    "   - Exibe os primeiros valores da coluna modificada.  \n",
    "\n",
    "4. **`print('Tipo: ', df['Area'].dtype, '\\n')`**  \n",
    "   - Mostra o tipo de dado atual da coluna, que ainda será **string (object)**.  \n",
    "\n",
    "5. **`df['Area'] = df['Area'].astype(int)`**  \n",
    "   - Converte os valores para **inteiros (int)** para facilitar cálculos e análises.  \n",
    "\n",
    "6. **Novamente, `print(df['Area'].head())` e `print('Tipo: ', df['Area'].dtype)`**  \n",
    "   - Exibe os valores convertidos e confirma que o tipo de dado agora é **int**.  "
   ]
  },
  {
   "cell_type": "markdown",
   "metadata": {},
   "source": [
    "### **Corrigindo Price**"
   ]
  },
  {
   "cell_type": "markdown",
   "metadata": {},
   "source": [
    "Mesma técnica"
   ]
  },
  {
   "cell_type": "code",
   "execution_count": null,
   "metadata": {},
   "outputs": [],
   "source": [
    "print(df['Price'].head())\n",
    "print('Tipo: ', df['Price'].dtype, '\\n')\n",
    "\n",
    "# Obtendo o valor numérico sem a moeda, substituindo ',' por '', e convertendo para float\n",
    "df['Price'] = df['Price'].str.split(' ').str[0].str.replace(',', '').astype(float)\n",
    "\n",
    "print(df['Price'].head())\n",
    "print('Tipo: ', df['Price'].dtype)"
   ]
  },
  {
   "cell_type": "markdown",
   "metadata": {},
   "source": [
    "### **Corrigindo Listing Time**\n",
    "\n",
    "Como essa parte é um pouco mais complexa, pois precisamos converter todas para um tempo comum: Mês -> Dia, Ano -> Dia.\n",
    "\n",
    "Irei criar uma nova coluna para tal."
   ]
  },
  {
   "cell_type": "markdown",
   "metadata": {},
   "source": [
    "Existem diferentes maneiras de criar novas colunas em um DataFrame.\n",
    "\n",
    "* ``df['nova_coluna'] = algo``\n",
    "* ``df.assign(nova_coluna = algo)``\n",
    "\n",
    "Para isso, utilizarei o assign, e o método ``.map()``\n",
    "\n",
    "O método `.map()` é usado para **substituir valores de uma coluna** com base em um **dicionário**, função ou outra estrutura de dados.  "
   ]
  },
  {
   "cell_type": "code",
   "execution_count": null,
   "metadata": {},
   "outputs": [],
   "source": [
    "# Identificando linhas contendo 'more' com Força Bruta.\n",
    "indices_more = []\n",
    "for index, line in df.iterrows():\n",
    "    if 'more' in line['Listing_Time']:\n",
    "        indices_more.append(index)\n",
    "\n",
    "print(f'\\nValores com \"more\": ')\n",
    "display(df.iloc[indices_more][['Resume','Location','Price','Listing_Time']].head())"
   ]
  },
  {
   "cell_type": "code",
   "execution_count": null,
   "metadata": {},
   "outputs": [],
   "source": [
    "# Substituindo'more' e 'than' por ''. \n",
    "df['Listing_Time'] = df['Listing_Time'].str.replace('more ', '')\n",
    "df['Listing_Time'] = df['Listing_Time'].str.replace('than ', '')"
   ]
  },
  {
   "cell_type": "code",
   "execution_count": null,
   "metadata": {},
   "outputs": [],
   "source": [
    "# Identificando linhas contendo 'more'  após transformação com Força Bruta.\n",
    "indices_more_transformado = []\n",
    "for index, line in df.iterrows():\n",
    "    if 'more' in line['Listing_Time']:\n",
    "        indices_more_transformado.append(index)\n",
    "\n",
    "print(f'\\nValores com \"more\": ')\n",
    "display(df.iloc[indices_more_transformado][['Resume','Location','Price','Listing_Time']].head())"
   ]
  },
  {
   "cell_type": "markdown",
   "metadata": {},
   "source": [
    "#### **Extraindo os dias**"
   ]
  },
  {
   "cell_type": "code",
   "execution_count": null,
   "metadata": {},
   "outputs": [],
   "source": [
    "conversao = {\n",
    "    'minute': 1/1440, 'hour': 1/24, 'day': 1, 'week': 7,\n",
    "    'month': 30, 'year': 365\n",
    "}\n",
    "\n",
    "df = (\n",
    "    df.assign(\n",
    "        tipo_tempo = df['Listing_Time'].str.split(' ').str[2].str.replace('s', ''),\n",
    "        quant_tempo = df['Listing_Time'].str.split(' ').str[1].astype(int),\n",
    "        tempo_dias = lambda x: x['quant_tempo'] * x['tipo_tempo'].map(conversao)\n",
    "    )\n",
    ")\n",
    "\n",
    "display(df[['Listing_Time', 'tipo_tempo', 'quant_tempo', 'tempo_dias']].head(10))"
   ]
  },
  {
   "cell_type": "markdown",
   "metadata": {},
   "source": [
    "> <span style='color:red'>**Explicação do Código**</span>\n",
    "\n",
    "Este código converte a coluna **\"Listing_Time\"**, que contém valores de tempo em diferentes unidades (minutos, horas, dias, semanas, meses, anos), para uma representação padronizada em **dias**.  \n",
    "\n",
    "#### **Passo a Passo**\n",
    "1. **Dicionário de Conversão**  \n",
    "   ```python\n",
    "   conversao = {\n",
    "       'minute': 1/1440, 'hour': 1/24, 'day': 1, 'week': 7,\n",
    "       'month': 30, 'year': 365\n",
    "   }\n",
    "   ```\n",
    "   - Cria um dicionário que define o fator de conversão de diferentes unidades de tempo para **dias**.  \n",
    "   - Por exemplo, **1 hora** equivale a **1/24 dias**, **1 semana** equivale a **7 dias**, etc.  \n",
    "\n",
    "2. **Extração e Transformação das Colunas**\n",
    "   ```python\n",
    "   df = (\n",
    "       df.assign(\n",
    "           tipo_tempo = df['Listing_Time'].str.split(' ').str[2].str.replace('s', ''),\n",
    "           quant_tempo = df['Listing_Time'].str.split(' ').str[1].astype(int),\n",
    "           tempo_dias = lambda x: x['quant_tempo'] * x['tipo_tempo'].map(conversao)\n",
    "       )\n",
    "   )\n",
    "   ```\n",
    "   - **`df.assign(...)`**: Cria novas colunas no DataFrame sem modificar o original diretamente.  \n",
    "   - **`tipo_tempo`**:  \n",
    "     - Divide os valores da coluna **\"Listing_Time\"** em partes separadas pelos espaços.  \n",
    "     - Pega o terceiro elemento (**str[2]**), que representa a unidade de tempo (exemplo: \"days\").  \n",
    "     - Remove o **\"s\"** final (exemplo: \"days\" → \"day\").  \n",
    "   - **`quant_tempo`**:  \n",
    "     - Obtém a quantidade numérica de tempo (**str[1]**) e converte para inteiro.  \n",
    "   - **`tempo_dias`**:  \n",
    "     - Converte a quantidade de tempo para **dias**, multiplicando pelo fator de conversão do dicionário.  "
   ]
  },
  {
   "cell_type": "code",
   "execution_count": null,
   "metadata": {},
   "outputs": [],
   "source": [
    "# Dropar colunas antigas\n",
    "df.drop(columns=['Listing_Time', 'tipo_tempo', 'quant_tempo'], inplace=True)"
   ]
  },
  {
   "cell_type": "code",
   "execution_count": null,
   "metadata": {},
   "outputs": [],
   "source": [
    "df.info()"
   ]
  },
  {
   "cell_type": "markdown",
   "metadata": {},
   "source": [
    "<span style='color:green'><b>Sucesso!</b></span>\n",
    "\n",
    "Os dados foram limpos, tratados e agora estão todos no formato correto!"
   ]
  },
  {
   "cell_type": "markdown",
   "metadata": {},
   "source": [
    "### **Criando novas Colunas**\n",
    "\n",
    "Vamos criar as seguintes novas colunas:\n",
    "\n",
    "- ``Preco_Mes``: Valor do aluguel mensal, que se encontra como anual. (Price / 30)\n",
    "- ``Area_m2``: Área em $\\text{m}^2$, que se encontra em $\\text{pés}^2$. (Taxa de conversão: 10.764)\n",
    "- ``Preco_m2``: Valor do $\\text{m}^2$. (Price / Area_m2)"
   ]
  },
  {
   "cell_type": "markdown",
   "metadata": {},
   "source": [
    "#### **Função `lambda`**  \n",
    "\n",
    "`lambda` é uma forma rápida de criar funções anônimas, úteis para operações simples.  \n",
    "\n",
    "🔹 **Sintaxe:**  \n",
    "```python\n",
    "lambda argumentos: expressão\n",
    "```\n",
    "\n",
    "🔹 **Exemplo:**  \n",
    "```python\n",
    "soma = lambda x, y: x + y\n",
    "print(soma(3, 5))  # Saída: 8\n",
    "```\n",
    "\n",
    "🔹 **Quando usar?**  \n",
    "- Com `map()`, `filter()`, `sorted()` e `pandas.assign()`.  \n",
    "- Para funções curtas e descartáveis.  \n",
    "\n",
    "🔹 **Quando evitar?**  \n",
    "- Para lógica complexa (use `def`).  \n",
    "- Se deixar o código difícil de entender.  \n",
    "\n",
    "🔹 **Sintaxe básica:**  \n",
    "```python\n",
    "df = df.assign(Nova_Coluna=lambda x: x['Coluna_Existente'] * 2)\n",
    "```\n",
    "O `lambda` recebe `x` (o próprio DataFrame) e acessa suas colunas para criar novas transformações.  "
   ]
  },
  {
   "cell_type": "code",
   "execution_count": null,
   "metadata": {},
   "outputs": [],
   "source": [
    "# Criando novas Colunas\n",
    "df = df.assign(\n",
    "        Preco_Mes = lambda x: x['Price'] / x['tempo_dias'] * 30,\n",
    "        Area_m2 = lambda x: x['Area'] / 10.764,\n",
    "        Preco_m2 = lambda x: x['Price'] / x['Area_m2']\n",
    "    )\n",
    "\n",
    "df.filter(items=['Resume', 'Location', 'Price', 'tempo_dias', 'Preco_Mes', 'Area', 'Area_m2', 'Preco_m2'])"
   ]
  },
  {
   "cell_type": "markdown",
   "metadata": {},
   "source": [
    "Agora temos novas colunas que permitem criar novas análises!"
   ]
  },
  {
   "cell_type": "markdown",
   "metadata": {},
   "source": [
    "---"
   ]
  },
  {
   "cell_type": "markdown",
   "metadata": {},
   "source": [
    "## **Filtragem de Dados**"
   ]
  },
  {
   "cell_type": "markdown",
   "metadata": {},
   "source": [
    "A filtragem de dados em pandas consiste em selecionar subconjuntos de um DataFrame com base em condições específicas."
   ]
  },
  {
   "cell_type": "markdown",
   "metadata": {},
   "source": [
    "#### **Filtrando com Máscara Booleana**\n",
    "  \n",
    "Uma máscara booleana é um filtro que seleciona apenas as linhas de um DataFrame que atendem a uma determinada condição.  \n",
    "\n",
    "🔹 **Passo a passo:**  \n",
    "1. **Criação da máscara:**  \n",
    "   ```python\n",
    "   mask = df['tempo_dias'] > 30\n",
    "   ```\n",
    "   - Retorna `True` para linhas onde `tempo_dias` é maior que 30 e `False` caso contrário.  \n",
    "\n",
    "2. **Aplicação da máscara:**  \n",
    "   ```python\n",
    "   df[mask].head()\n",
    "   ```\n",
    "   - Filtra o DataFrame, mantendo apenas as linhas onde `mask` é `True`.  "
   ]
  },
  {
   "cell_type": "code",
   "execution_count": null,
   "metadata": {},
   "outputs": [],
   "source": [
    "# Boolean mask\n",
    "df = df.copy()\n",
    "\n",
    "# Condição: tempo_dias > 30, ou seja, anunciado há mais de 30 dias.\n",
    "mask = df['tempo_dias'] > 30\n",
    "print(\"Máscara Booleana:\", mask.tail(7))\n",
    "\n",
    "# Podemos passar a máscara para filtrar o DataFrame\n",
    "print(\"\\nAmostra do DataFrame com tempo_dias > 30 dias:\")\n",
    "df[mask].head()"
   ]
  },
  {
   "cell_type": "markdown",
   "metadata": {},
   "source": [
    "**Podemos também passar criar a máscara direto na filtragem!**"
   ]
  },
  {
   "cell_type": "code",
   "execution_count": null,
   "metadata": {},
   "outputs": [],
   "source": [
    "# Opção 1\n",
    "\n",
    "# Filtrando imóveis com mais de 2 banheiros\n",
    "df_more_2_bathrooms = df[df['Bathrooms'] > 2]\n",
    "display(df_more_2_bathrooms.head())\n",
    "print('Mínimo de Banheiros após filtragem: ', df_more_2_bathrooms['Bathrooms'].min())"
   ]
  },
  {
   "cell_type": "code",
   "execution_count": null,
   "metadata": {},
   "outputs": [],
   "source": [
    "# Filtrando imóveis com 2 banheiros\n",
    "df_more_2 = df[df['Bathrooms'] == 2]\n",
    "display(df_more_2.head())\n",
    "print('Números de Banheiros na Amostra: ', df_more_2['Bathrooms'].unique())"
   ]
  },
  {
   "cell_type": "markdown",
   "metadata": {},
   "source": [
    "---"
   ]
  },
  {
   "cell_type": "markdown",
   "metadata": {},
   "source": [
    "#### **Filtrando com `.query()`**\n",
    "\n",
    "O método **`.query()`** no Pandas permite **filtrar dados de um DataFrame** usando expressões similares a SQL de forma mais legível.  \n",
    "\n",
    "### 🔹 Exemplo de uso:  \n",
    "```python\n",
    "df_filtrado = df.query(\"Bedrooms >= 3 and Bathrooms >= 2\")\n",
    "```\n",
    "🔸 Retorna apenas as linhas onde `Bedrooms` é **maior ou igual a 3** e `Bathrooms` é **maior ou igual a 2**.  "
   ]
  },
  {
   "cell_type": "code",
   "execution_count": null,
   "metadata": {},
   "outputs": [],
   "source": [
    "# Usando o .query()\n",
    "df_2_bath_query = df.query(\"Bedrooms >= 3 and Bathrooms >= 2\")\n",
    "\n",
    "display(df_2_bath_query.head())\n",
    "print('Números de Banheiros na Amostra: ', df_2_bath_query['Bathrooms'].unique())\n",
    "print('Números de Quartos na Amostra: ', df_2_bath_query['Bedrooms'].unique())"
   ]
  },
  {
   "cell_type": "markdown",
   "metadata": {},
   "source": [
    "---"
   ]
  },
  {
   "cell_type": "markdown",
   "metadata": {},
   "source": [
    "## **Operações Matemáticas**\n",
    "\n",
    "Principais Operações:\n",
    "* Média\n",
    "* Soma\n",
    "* Máximo\n",
    "* Mínimo\n",
    "* Desvio Padrão\n",
    "* Mediana\n",
    "* Moda\n",
    "* Contagens"
   ]
  },
  {
   "cell_type": "markdown",
   "metadata": {},
   "source": [
    "Vamos aplicá-las no preço."
   ]
  },
  {
   "cell_type": "code",
   "execution_count": null,
   "metadata": {},
   "outputs": [],
   "source": [
    "df['Price'].head()"
   ]
  },
  {
   "cell_type": "code",
   "execution_count": null,
   "metadata": {},
   "outputs": [],
   "source": [
    "# Mean, Sum, Median, Max, Min, Std, Moda\n",
    "media =         df['Price'].mean()\n",
    "soma =          df['Price'].sum()\n",
    "mediana =       df['Price'].median()\n",
    "maximo =        df['Price'].max()\n",
    "minimo =        df['Price'].min()\n",
    "desvio_padrao = df['Price'].std()\n",
    "moda =          df['Price'].mode()\n",
    "\n",
    "print(f'Média: {media}')\n",
    "print(f'Soma: {soma}')\n",
    "print(f'Mediana: {mediana}')\n",
    "print(f'Máximo: {maximo}')\n",
    "print(f'Mínimo: {minimo}')\n",
    "print(f'Desvio Padrão: {desvio_padrao}')\n",
    "print(f'Moda: {moda}')"
   ]
  },
  {
   "cell_type": "markdown",
   "metadata": {},
   "source": [
    "---"
   ]
  },
  {
   "cell_type": "markdown",
   "metadata": {},
   "source": [
    "## **Agrupamento**"
   ]
  },
  {
   "cell_type": "markdown",
   "metadata": {},
   "source": [
    "O método **`.groupby()`** no Pandas permite **agrupar dados** com base em uma ou mais colunas e aplicar funções estatísticas sobre esses grupos.  \n",
    "\n",
    "### 🔹 Exemplo de uso:  \n",
    "```python\n",
    "df.groupby('Bedrooms')['Price'].mean()\n",
    "```\n",
    "🔸 Agrupa os dados pela coluna `Bedrooms` e calcula a **média dos preços** para cada quantidade de quartos.  \n",
    "\n",
    "### 🔹 Aplicando várias funções:  \n",
    "```python\n",
    "df.groupby('Bedrooms').agg({'Price': ['mean', 'max', 'min']})\n",
    "```\n",
    "🔸 Calcula **média, máximo e mínimo** dos preços para cada grupo.  \n",
    "\n",
    "### 🔹 Agrupando por múltiplas colunas:  \n",
    "```python\n",
    "df.groupby(['Bedrooms', 'Bathrooms'])['Price'].sum()\n",
    "```\n",
    "🔸 Agrupa por `Bedrooms` e `Bathrooms`, somando os preços em cada combinação.  "
   ]
  },
  {
   "cell_type": "code",
   "execution_count": null,
   "metadata": {},
   "outputs": [],
   "source": [
    "# Preço médio por quantidade de quartos\n",
    "mean_price_bedrooms = (\n",
    "    df.groupby('Bedrooms')['Price'].mean()\n",
    "                                   .sort_values(ascending=False)\n",
    "                                   .to_frame()\n",
    "                                   .reset_index() # Ordenar valores (ascending=False -> Decrescente)\n",
    ")\n",
    "\n",
    "mean_price_bedrooms"
   ]
  },
  {
   "cell_type": "code",
   "execution_count": null,
   "metadata": {},
   "outputs": [],
   "source": [
    "# Aplicando várias funções ao mesmo tempo\n",
    "\n",
    "# Quantidade de quartos por média, mediana, máximo e mínimo da área\n",
    "bed_area_stats = (\n",
    "    df.groupby('Bedrooms')['Area'].agg(['mean', 'median', 'max', 'min']).sort_values(by='mean', ascending=False).reset_index()\n",
    ")\n",
    "\n",
    "bed_area_stats"
   ]
  },
  {
   "cell_type": "markdown",
   "metadata": {},
   "source": [
    "#### **Analisando Anunciantes Únicos**\n",
    "\n",
    "Quantos Anunciantes únicos nós temos?\n",
    "\n",
    "Posso supor que anúncios com o mesmo contato são do mesmo anunciante."
   ]
  },
  {
   "cell_type": "code",
   "execution_count": null,
   "metadata": {},
   "outputs": [],
   "source": [
    "# Quantidade de anunciantes Únicos\n",
    "anunciantes_unicos = df['Contact'].nunique()\n",
    "\n",
    "print(f'Quantidade de Anunciantes Únicos: {anunciantes_unicos}')"
   ]
  },
  {
   "cell_type": "code",
   "execution_count": null,
   "metadata": {},
   "outputs": [],
   "source": [
    "# 10 Anunciantes que mais anunciam\n",
    "df['Contact'].value_counts().head(10).to_frame().reset_index()"
   ]
  },
  {
   "cell_type": "markdown",
   "metadata": {},
   "source": [
    "Para facilitar a leitura, vamos criar um identificador único para cada anunciante."
   ]
  },
  {
   "cell_type": "code",
   "execution_count": null,
   "metadata": {},
   "outputs": [],
   "source": [
    "# Criar código único para cada anunciante\n",
    "df['ID_Vendedor'] = df['Contact'].astype('category').cat.codes"
   ]
  },
  {
   "cell_type": "code",
   "execution_count": null,
   "metadata": {},
   "outputs": [],
   "source": [
    "df[['ID_Vendedor', 'Contact']].head()"
   ]
  },
  {
   "cell_type": "markdown",
   "metadata": {},
   "source": [
    "> <span style='color:red'>**Explicação do Código**</span>\n",
    "\n",
    "```python\n",
    "df['Contact'].astype('category').cat.codes\n",
    "```\n",
    "Esse código **converte a coluna `Contact` em uma categoria** e gera um **código numérico único** para cada anunciante.  \n",
    "\n",
    "### **🔹 Etapas do processo:**  \n",
    "1. **`astype('category')`**  \n",
    "   - Converte a coluna `Contact` (nomes ou identificadores de anunciantes) para o tipo `category`.  \n",
    "2. **`.cat.codes`**  \n",
    "   - Substitui cada valor único da categoria por um número inteiro, criando **códigos numéricos únicos**.  \n",
    "\n",
    "### **🔹 Exemplo Prático:**  \n",
    "#### **Antes da conversão (`Contact` como string)**  \n",
    "| Contact        | Price  |\n",
    "|---------------|--------|\n",
    "| João Imóveis  | 500000 |\n",
    "| Maria Realty  | 600000 |\n",
    "| João Imóveis  | 550000 |\n",
    "| Pedro Vendas  | 450000 |\n",
    "\n",
    "#### **Depois da conversão (`cat.codes`)**  \n",
    "| Contact        | Contact_Code | Price  |\n",
    "|---------------|--------------|--------|\n",
    "| João Imóveis  | 0            | 500000 |\n",
    "| Maria Realty  | 1            | 600000 |\n",
    "| João Imóveis  | 0            | 550000 |\n",
    "| Pedro Vendas  | 2            | 450000 |"
   ]
  },
  {
   "cell_type": "code",
   "execution_count": null,
   "metadata": {},
   "outputs": [],
   "source": [
    "# Anunciantes que mais anunciam\n",
    "top_10_anunciantes = df['ID_Vendedor'].value_counts().head(10).to_frame().reset_index()\n",
    "\n",
    "top_10_anunciantes"
   ]
  },
  {
   "cell_type": "code",
   "execution_count": null,
   "metadata": {},
   "outputs": [],
   "source": [
    "# Anunciantes mais caros em média\n",
    "anunciantes_caros = df.groupby('ID_Vendedor')['Price'].mean().sort_values(ascending=False).head(5).to_frame().reset_index()\n",
    "\n",
    "anunciantes_caros"
   ]
  },
  {
   "cell_type": "markdown",
   "metadata": {},
   "source": [
    "---"
   ]
  },
  {
   "cell_type": "markdown",
   "metadata": {},
   "source": [
    "## **Visualização de Dados**\n",
    "\n",
    "Nessa seção, vamos visualizar os dados vistos acima.\n",
    "\n",
    "### **Matplotlib e Seaborn**  \n",
    "\n",
    "#### 🔹 **Matplotlib**  \n",
    "Matplotlib é uma biblioteca do Python usada para **criação de gráficos estáticos, interativos e animados**. É altamente personalizável e permite construir gráficos como **linhas, barras, histogramas e dispersão**.  \n",
    "\n",
    "**Exemplo:**  \n",
    "```python\n",
    "import matplotlib.pyplot as plt\n",
    "\n",
    "plt.plot([1, 2, 3, 4], [10, 20, 25, 30])\n",
    "plt.title('Gráfico Simples')\n",
    "plt.show()\n",
    "```\n",
    "\n",
    "#### 🔹 **Seaborn**  \n",
    "Seaborn é uma biblioteca baseada no Matplotlib, focada em **visualização estatística**. Oferece gráficos mais bonitos e fáceis de criar, como **heatmaps, boxplots e violin plots**.  \n",
    "\n",
    "**Exemplo:**  \n",
    "```python\n",
    "import seaborn as sns\n",
    "\n",
    "sns.histplot(df['Price'], bins=30, kde=True)\n",
    "```\n",
    "\n",
    "**Quando usar?**  \n",
    "- **Matplotlib** → Personalização total de gráficos.  \n",
    "- **Seaborn** → Visualizações estatísticas prontas e esteticamente melhores.  "
   ]
  },
  {
   "cell_type": "code",
   "execution_count": null,
   "metadata": {},
   "outputs": [],
   "source": [
    "import matplotlib.pyplot as plt"
   ]
  },
  {
   "cell_type": "markdown",
   "metadata": {},
   "source": [
    "mean_price_bedrooms\n",
    "bed_area_stats\n",
    "top_10_anunciantes\n",
    "anunciantes_caros"
   ]
  },
  {
   "cell_type": "markdown",
   "metadata": {},
   "source": [
    "#### **1 - Média de preço por quantidade de Quartos**"
   ]
  },
  {
   "cell_type": "code",
   "execution_count": null,
   "metadata": {},
   "outputs": [],
   "source": [
    "# **1 - Média de preço por quantidade de Quartos**\n",
    "media_geral = df['Price'].mean()\n",
    "\n",
    "plt.figure(figsize=(10, 5)) # Tamanho do Gráfico\n",
    "\n",
    "plt.bar(x=mean_price_bedrooms['Bedrooms'], height=mean_price_bedrooms['Price'], color='skyblue') # Gráfico de Barras\n",
    "plt.axhline(y=media_geral, color='r', linestyle='--', label='Média Geral') # Linha na média geral\n",
    "\n",
    "plt.xlabel('Quartos') # Título do Eixo X\n",
    "plt.ylabel('Preço Médio') # Título do Eixo Y\n",
    "plt.title('Média de Preço por Quantidade de Quartos') # Título do Gráfico\n",
    "plt.legend() # Mostrar legenda\n",
    "plt.show() # Mostrar Gráfico"
   ]
  },
  {
   "cell_type": "markdown",
   "metadata": {},
   "source": [
    "#### **2 - Média de Área por quantidade de quartos**"
   ]
  },
  {
   "cell_type": "code",
   "execution_count": null,
   "metadata": {},
   "outputs": [],
   "source": [
    "# **2 - Quantidade de Quartos por Média, Mediana, Máximo e Mínimo da Área**\n",
    "plt.figure(figsize=(10, 5))\n",
    "\n",
    "plt.plot(bed_area_stats['Bedrooms'], bed_area_stats['mean'], label='Média', marker='o') # Gráfico de Linha\n",
    "plt.plot(bed_area_stats['Bedrooms'], bed_area_stats['median'], label='Mediana', marker='o') # Gráfico de Linha\n",
    "\n",
    "plt.fill_between(bed_area_stats['Bedrooms'], bed_area_stats['max'], bed_area_stats['min'], alpha=0.2, label='Máximo/Mínimo') # Preencher entre as linhas\n",
    "\n",
    "plt.xlabel('Quartos')\n",
    "plt.ylabel('Área')\n",
    "plt.title('Quantidade de Quartos por Média, Mediana, Máximo e Mínimo da Área')\n",
    "plt.legend()\n",
    "plt.show()"
   ]
  },
  {
   "cell_type": "markdown",
   "metadata": {},
   "source": [
    "#### **3 - Top 10 Anunciantes**"
   ]
  },
  {
   "cell_type": "code",
   "execution_count": null,
   "metadata": {},
   "outputs": [],
   "source": [
    "# **3 - Anunciantes que mais anunciam**\n",
    "plt.figure(figsize=(10, 5))\n",
    "\n",
    "# Ordenando do maior para o menor\n",
    "top_10_anunciantes = top_10_anunciantes.sort_values(by='count', ascending=True)\n",
    "\n",
    "plt.barh(y=top_10_anunciantes['ID_Vendedor'].astype(str), \n",
    "         width=top_10_anunciantes['count'], \n",
    "         color='skyblue')\n",
    "\n",
    "plt.xlabel('Quantidade de Anúncios')\n",
    "plt.ylabel('ID do Anunciante')\n",
    "plt.title('Top 10 Anunciantes que mais Anunciam')\n",
    "plt.show()"
   ]
  },
  {
   "cell_type": "markdown",
   "metadata": {},
   "source": [
    "#### **4 - Vendedores Mais Caros em Média**"
   ]
  },
  {
   "cell_type": "code",
   "execution_count": null,
   "metadata": {},
   "outputs": [],
   "source": [
    "# **4 - Anunciantes mais caros em média**\n",
    "plt.figure(figsize=(10, 5))\n",
    "\n",
    "anunciantes_caros = anunciantes_caros.sort_values(by='Price', ascending=True)\n",
    "\n",
    "plt.barh(y=anunciantes_caros['ID_Vendedor'].astype(str),\n",
    "            width=anunciantes_caros['Price'],\n",
    "            color='skyblue')\n",
    "\n",
    "plt.xlabel('Preço Médio')\n",
    "plt.ylabel('ID do Anunciante')\n",
    "plt.title('Top 5 Anunciantes mais Caros em Média')\n",
    "plt.show()"
   ]
  },
  {
   "cell_type": "markdown",
   "metadata": {},
   "source": [
    "---\n",
    "\n",
    "# **Exercícios Práticos**\n",
    "\n",
    "Nessa seção, encontra-se um novo conjunto de dados preparado para Introdução a Análise de Dados.\n",
    "\n",
    "Vamos explicar o dataset, e definir exercícios práticos, com base em perguntas acerca dos dados."
   ]
  },
  {
   "cell_type": "markdown",
   "metadata": {},
   "source": [
    "## **Contextualização dos Dados**\n",
    "\n",
    "Os dados utilizados nessa seção foram originados do repositório de dados para Machine Learning da UC Irvine University, considerada uma das 10 melhores universidades dos EUA, e a melhor criada nos últimos 50 anos.\n",
    "\n",
    "O conjunto de dados contém informações detalhadas sobre diversos modelos de automóveis, incluindo características técnicas, desempenho e preços.\n",
    "\n",
    "O objetivo dessa base de dados é permitir a análise exploratória e o desenvolvimento de modelos preditivos, como a estimativa de preços de carros com base em suas características, mas no nosso caso, o maior foco será a análise exploratória, e uma breve passagem por modelagem.7\n",
    "\n",
    "Os dados originais foram traduzidos para Português.\n",
    "\n",
    "O arquivo `.csv` se encontra `data/cars_translated.csv`\n",
    "\n",
    "## **Resumo**\n",
    "\n",
    "O conjunto de dados contém **26 colunas** e **205 registros**, representando diferentes modelos de automóveis. Algumas colunas possuem valores ausentes e precisam ser tratadas antes da análise.\n",
    "\n",
    "Os dados incluem variáveis categóricas (como tipo de combustível e fabricante) e variáveis numéricas (como tamanho do motor e preço).\n",
    "\n",
    "## **Descrição das Colunas**\n",
    "\n",
    "Aqui está a explicação de cada coluna presente no dataset:\n",
    "\n",
    "| **Coluna**               | **Tipo**      | **Descrição** |\n",
    "|--------------------------|--------------|--------------|\n",
    "| `classificacao_risco`    | Numérica      | Índice de risco do seguro (-2 a 3). |\n",
    "| `perdas_normalizadas`    | Numérica      | Média das perdas normalizadas para veículos similares. |\n",
    "| `fabricante`             | Categórica    | Marca do carro (exemplo: Audi, BMW, Toyota). |\n",
    "| `tipo_combustivel`       | Categórica    | Tipo de combustível (`gasolina` ou `diesel`). |\n",
    "| `aspiracao`              | Categórica    | Tipo de aspiração do motor (`padrao` ou `turbo`). |\n",
    "| `num_portas`            | Categórica    | Número de portas do carro (`duas` ou `quatro`). |\n",
    "| `tipo_carroceria`        | Categórica    | Tipo de carroceria (sedan, hatchback, conversível, etc.). |\n",
    "| `tracao`                | Categórica    | Tipo de tração (`dianteira`, `traseira`, `quatro_rodas`). |\n",
    "| `localizacao_motor`      | Categórica    | Localização do motor (`frontal` ou `traseira`). |\n",
    "| `distancia_eixos`        | Numérica      | Distância entre os eixos do carro (polegadas). |\n",
    "| `comprimento`            | Numérica      | Comprimento total do carro (polegadas). |\n",
    "| `largura`               | Numérica      | Largura do carro (polegadas). |\n",
    "| `altura`                | Numérica      | Altura do carro (polegadas). |\n",
    "| `peso`                  | Numérica      | Peso do carro sem passageiros e carga (libras). |\n",
    "| `tipo_motor`            | Categórica    | Tipo do motor (`dohc`, `ohcv`, `rotor`, etc.). |\n",
    "| `num_cilindros`         | Categórica    | Número de cilindros do motor (`quatro`, `seis`, `oito`, etc.). |\n",
    "| `tamanho_motor`         | Numérica      | Tamanho do motor em centímetros cúbicos (cc). |\n",
    "| `sistema_combustivel`   | Categórica    | Tipo de sistema de combustível (`mpfi`, `spdi`, `carb`, etc.). |\n",
    "| `diametro_cilindro`     | Numérica      | Diâmetro do cilindro do motor. |\n",
    "| `curso_pistao`         | Numérica      | Comprimento do curso do pistão. |\n",
    "| `taxa_compressao`       | Numérica      | Taxa de compressão do motor. |\n",
    "| `potencia`              | Numérica      | Potência do motor (cavalos de potência - HP). |\n",
    "| `rpm_maximo`            | Numérica      | Rotação máxima do motor (RPM). |\n",
    "| `consumo_cidade`        | Numérica      | Consumo de combustível na cidade (milhas por galão). |\n",
    "| `consumo_estrada`       | Numérica      | Consumo de combustível na estrada (milhas por galão). |\n",
    "| `preco`                | Numérica      | Preço do carro (dólares). |"
   ]
  },
  {
   "cell_type": "markdown",
   "metadata": {},
   "source": [
    "Agora, sigamos para a prática."
   ]
  },
  {
   "cell_type": "markdown",
   "metadata": {},
   "source": [
    "---"
   ]
  },
  {
   "cell_type": "markdown",
   "metadata": {},
   "source": [
    "Nessa seção você encontrará códigos para mostrar exemplos de respostas em cada questão.\n",
    "\n",
    "Elas foram armazenadas em um arquivo `.json`, e são gerenciadas pela classe `Respostas()`.\n",
    "\n",
    "Ambos se encontram no diretório:\n",
    "\n",
    "```\n",
    "└───respostas_exemplo  # Arquivos de resposta para exercícios\n",
    "    │   respostas.json\n",
    "    │   respostas.py\n",
    "```"
   ]
  },
  {
   "cell_type": "code",
   "execution_count": null,
   "metadata": {},
   "outputs": [],
   "source": [
    "from respostas_exemplo.respostas import Respostas\n",
    "respostas = Respostas()"
   ]
  },
  {
   "cell_type": "markdown",
   "metadata": {},
   "source": [
    "---"
   ]
  },
  {
   "cell_type": "markdown",
   "metadata": {},
   "source": [
    "#### **1 - Leitura dos Dados**\n",
    "- Importar as dependências **necessárias**.\n",
    "- Tente ler os dados, use os parâmetros corretos para a leitura, e leia apenas as primeiras 5 linhas para conferir os dados.\n",
    "- Após confirmar a leitura, leia todos os dados.\n",
    "- Verificar o número de linhas e colunas."
   ]
  },
  {
   "cell_type": "markdown",
   "metadata": {},
   "source": [
    "> <span style='color:red'>**Observação:**</span>\n",
    "\n",
    "Instancie a variável do DataFrame lido com ``df_cars``.\n",
    "\n",
    "Exemplo:\n",
    "```python\n",
    "df_cars = funcao_de_leitura(arquivo)\n",
    "```"
   ]
  },
  {
   "cell_type": "code",
   "execution_count": null,
   "metadata": {},
   "outputs": [],
   "source": [
    "# Escreva aqui o seu código"
   ]
  },
  {
   "cell_type": "markdown",
   "metadata": {},
   "source": [
    "Exemplo de Resposta"
   ]
  },
  {
   "cell_type": "code",
   "execution_count": null,
   "metadata": {},
   "outputs": [],
   "source": [
    "respostas.mostrar_resposta_formatada('leitura_dados')"
   ]
  },
  {
   "cell_type": "markdown",
   "metadata": {},
   "source": [
    "---"
   ]
  },
  {
   "cell_type": "markdown",
   "metadata": {},
   "source": [
    "#### **2 - Descrição dos Dados**\n",
    "- Exibir informações gerais do dataframe (`info()`).\n",
    "- Verificar os tipos de dados de cada coluna.\n",
    "- Analisar estatísticas gerais dos dados numéricos (`describe()`)."
   ]
  },
  {
   "cell_type": "code",
   "execution_count": null,
   "metadata": {},
   "outputs": [],
   "source": [
    "# Escreva aqui o seu código"
   ]
  },
  {
   "cell_type": "code",
   "execution_count": null,
   "metadata": {},
   "outputs": [],
   "source": [
    "# Escreva aqui o seu código"
   ]
  },
  {
   "cell_type": "markdown",
   "metadata": {},
   "source": [
    "Exemplos Respostas"
   ]
  },
  {
   "cell_type": "code",
   "execution_count": null,
   "metadata": {},
   "outputs": [],
   "source": [
    "respostas.mostrar_resposta_formatada('descricao_dados')"
   ]
  },
  {
   "cell_type": "markdown",
   "metadata": {},
   "source": [
    "---"
   ]
  },
  {
   "cell_type": "markdown",
   "metadata": {},
   "source": [
    "#### **3 - Colunas e como acessá-las**\n",
    "- Listar todas as colunas disponíveis.\n",
    "- Selecione a coluna `fabricante` e depois as colunas `fabricantes`, `tipo_combustivel`, `num_portas`, `tipo_carroceria`."
   ]
  },
  {
   "cell_type": "code",
   "execution_count": null,
   "metadata": {},
   "outputs": [],
   "source": [
    "# Escreva aqui o seu código"
   ]
  },
  {
   "cell_type": "code",
   "execution_count": null,
   "metadata": {},
   "outputs": [],
   "source": [
    "# Escreva aqui o seu código"
   ]
  },
  {
   "cell_type": "code",
   "execution_count": null,
   "metadata": {},
   "outputs": [],
   "source": [
    "# Escreva aqui o seu código"
   ]
  },
  {
   "cell_type": "markdown",
   "metadata": {},
   "source": [
    "Exemplo respostas"
   ]
  },
  {
   "cell_type": "code",
   "execution_count": null,
   "metadata": {},
   "outputs": [],
   "source": [
    "respostas.mostrar_resposta_formatada('colunas')"
   ]
  },
  {
   "cell_type": "markdown",
   "metadata": {},
   "source": [
    "---"
   ]
  },
  {
   "cell_type": "markdown",
   "metadata": {},
   "source": [
    "#### **4 - Identificação de Problemas nos Dados**\n",
    "- Procurar valores faltantes (`isnull().sum()`).\n",
    "- Identificar valores inconsistentes (exemplo: \"?\" em `normalized-losses`).\n",
    "- Verificar presença de valores duplicados."
   ]
  },
  {
   "cell_type": "code",
   "execution_count": null,
   "metadata": {},
   "outputs": [],
   "source": [
    "# Escreva aqui o seu código"
   ]
  },
  {
   "cell_type": "code",
   "execution_count": null,
   "metadata": {},
   "outputs": [],
   "source": [
    "# Escreva aqui o seu código"
   ]
  },
  {
   "cell_type": "code",
   "execution_count": null,
   "metadata": {},
   "outputs": [],
   "source": [
    "# Escreva aqui o seu código"
   ]
  },
  {
   "cell_type": "markdown",
   "metadata": {},
   "source": [
    "Exemplos Respostas"
   ]
  },
  {
   "cell_type": "code",
   "execution_count": null,
   "metadata": {},
   "outputs": [],
   "source": [
    "respostas.mostrar_resposta_formatada('problema')"
   ]
  },
  {
   "cell_type": "markdown",
   "metadata": {},
   "source": [
    "---"
   ]
  },
  {
   "cell_type": "markdown",
   "metadata": {},
   "source": [
    "#### **5 - Limpeza e Tratamento de Dados**\n",
    "- Substituir valores \"?\" por `NaN`.\n",
    "- Converter colunas para tipos apropriados (exemplo: `horsepower` e `price` para `int` ou `float`)."
   ]
  },
  {
   "cell_type": "code",
   "execution_count": null,
   "metadata": {},
   "outputs": [],
   "source": [
    "# Escreva aqui o seu código"
   ]
  },
  {
   "cell_type": "code",
   "execution_count": null,
   "metadata": {},
   "outputs": [],
   "source": [
    "# Escreva aqui o seu código"
   ]
  },
  {
   "cell_type": "markdown",
   "metadata": {},
   "source": [
    "Exemplo Respostas"
   ]
  },
  {
   "cell_type": "code",
   "execution_count": null,
   "metadata": {},
   "outputs": [],
   "source": [
    "respostas.mostrar_resposta_formatada('limpeza_dados')"
   ]
  },
  {
   "cell_type": "markdown",
   "metadata": {},
   "source": [
    "---"
   ]
  },
  {
   "cell_type": "markdown",
   "metadata": {},
   "source": [
    "#### **6 - Operações Matemáticas e Contagem**\n",
    "- Criar colunas derivadas (exemplo: converter `consumo_cidade` e `consumo_estrada `para `km/l`, pois estão em mpg (milhas por galão)).\n",
    "  - Constante de conversão: ``0.425144``\n",
    "- Calcular estatísticas básicas (média, mediana, desvio padrão).\n",
    "- Contar a frequência de valores únicos (exemplo: `make.value_counts()`)."
   ]
  },
  {
   "cell_type": "code",
   "execution_count": null,
   "metadata": {},
   "outputs": [],
   "source": [
    "# Escreva aqui o seu código"
   ]
  },
  {
   "cell_type": "code",
   "execution_count": null,
   "metadata": {},
   "outputs": [],
   "source": [
    "# Escreva aqui o seu código"
   ]
  },
  {
   "cell_type": "code",
   "execution_count": null,
   "metadata": {},
   "outputs": [],
   "source": [
    "# Escreva aqui o seu código"
   ]
  },
  {
   "cell_type": "markdown",
   "metadata": {},
   "source": [
    "Exemplos Respostas"
   ]
  },
  {
   "cell_type": "code",
   "execution_count": null,
   "metadata": {},
   "outputs": [],
   "source": [
    "respostas.mostrar_resposta_formatada('operacoes')"
   ]
  },
  {
   "cell_type": "markdown",
   "metadata": {},
   "source": [
    "---"
   ]
  },
  {
   "cell_type": "markdown",
   "metadata": {},
   "source": [
    "#### **7 - Filtragem de Dados**\n",
    "- Filtrar carros com determinado critério (exemplo: carros a gasolina com mais de 100 HP).\n",
    "- Aplicar múltiplos filtros (exemplo: carros `diesel` e tração `quatro_rodas`)."
   ]
  },
  {
   "cell_type": "code",
   "execution_count": null,
   "metadata": {},
   "outputs": [],
   "source": [
    "# Escreva aqui o seu código"
   ]
  },
  {
   "cell_type": "code",
   "execution_count": null,
   "metadata": {},
   "outputs": [],
   "source": [
    "# Escreva aqui o seu código"
   ]
  },
  {
   "cell_type": "markdown",
   "metadata": {},
   "source": [
    "Exemplo Respostas"
   ]
  },
  {
   "cell_type": "code",
   "execution_count": null,
   "metadata": {},
   "outputs": [],
   "source": [
    "respostas.mostrar_resposta_formatada('filtragem')"
   ]
  },
  {
   "cell_type": "markdown",
   "metadata": {},
   "source": [
    "---"
   ]
  },
  {
   "cell_type": "markdown",
   "metadata": {},
   "source": [
    "#### **8 - Agrupamento**\n",
    "- Mostre os 5 tipos de carros em média mais caros por tipo de de combustível. \n",
    "- Mostre os 5 fabricantes com modelos mais caros\n",
    "- Mostre os 5 fabricantes com modelos mais caros em média.\n",
    "- Mostre os tipos de combustível que menos consomem em média na cidade.\n",
    "- Mostre quantos modelos por fabricante existem na base."
   ]
  },
  {
   "cell_type": "code",
   "execution_count": null,
   "metadata": {},
   "outputs": [],
   "source": [
    "# Escreva aqui o seu código"
   ]
  },
  {
   "cell_type": "code",
   "execution_count": null,
   "metadata": {},
   "outputs": [],
   "source": [
    "# Escreva aqui o seu código"
   ]
  },
  {
   "cell_type": "code",
   "execution_count": null,
   "metadata": {},
   "outputs": [],
   "source": [
    "# Escreva aqui o seu código"
   ]
  },
  {
   "cell_type": "code",
   "execution_count": null,
   "metadata": {},
   "outputs": [],
   "source": [
    "# Escreva aqui o seu código"
   ]
  },
  {
   "cell_type": "markdown",
   "metadata": {},
   "source": [
    "Exemplo Respostas"
   ]
  },
  {
   "cell_type": "code",
   "execution_count": null,
   "metadata": {},
   "outputs": [],
   "source": [
    "respostas.mostrar_resposta_formatada('agrupamento')"
   ]
  },
  {
   "cell_type": "markdown",
   "metadata": {},
   "source": [
    "---"
   ]
  },
  {
   "cell_type": "markdown",
   "metadata": {},
   "source": [
    "#### **9 - Questões de Análise Exploratória**  \n",
    "\n",
    "1. Qual a marca com a maior média de potência dos carros?  \n",
    "2. Existe relação entre o peso do carro e seu preço? (Dica: Gráfico de Dispersão)\n",
    "3. Qual o tipo de combustível mais utilizado entre os carros?  \n",
    "4. Qual a distribuição de carros por número de cilindros?  (Dica: Histograma)\n",
    "5. Os carros com tração nas quatro rodas possuem, em média, maior potência do que os com tração dianteira?  \n",
    "6. Qual o impacto do tamanho do motor no consumo de combustível?  "
   ]
  },
  {
   "cell_type": "code",
   "execution_count": null,
   "metadata": {},
   "outputs": [],
   "source": [
    "# Escreva aqui o seu código"
   ]
  },
  {
   "cell_type": "code",
   "execution_count": null,
   "metadata": {},
   "outputs": [],
   "source": [
    "# Escreva aqui o seu código"
   ]
  },
  {
   "cell_type": "code",
   "execution_count": null,
   "metadata": {},
   "outputs": [],
   "source": [
    "# Escreva aqui o seu código"
   ]
  },
  {
   "cell_type": "code",
   "execution_count": null,
   "metadata": {},
   "outputs": [],
   "source": [
    "# Escreva aqui o seu código"
   ]
  },
  {
   "cell_type": "code",
   "execution_count": null,
   "metadata": {},
   "outputs": [],
   "source": [
    "# Escreva aqui o seu código"
   ]
  },
  {
   "cell_type": "code",
   "execution_count": null,
   "metadata": {},
   "outputs": [],
   "source": [
    "# Escreva aqui o seu código"
   ]
  },
  {
   "cell_type": "markdown",
   "metadata": {},
   "source": [
    "Exemplos Resposta"
   ]
  },
  {
   "cell_type": "code",
   "execution_count": null,
   "metadata": {},
   "outputs": [],
   "source": [
    "respostas.mostrar_resposta_formatada('exploratoria')"
   ]
  },
  {
   "cell_type": "markdown",
   "metadata": {},
   "source": [
    "---"
   ]
  },
  {
   "cell_type": "markdown",
   "metadata": {},
   "source": [
    "### **10 - Análise Exploratória Livre**\n",
    "- Agora, decida a seu critério insight's a serem encontrados, perguntas a serem respondidas, hipóteses a serem testadas...\n",
    "\n",
    "> ``Dica:`` Procure relações entre os dados, variváveis que influenciam outras, etc. Formule uma hipótese e visualize-a.\n",
    "\n",
    "**Como achar relações?**\n",
    "\n",
    "É possível encontrar relações entre variáveis calculando e analisando a correlação entre elas, e visualizando-a.\n",
    "\n",
    "**Gráfico de Dispersão:** Mostra a relação entre duas variáveis com pontos no gráfico. Se os pontos formam um padrão, há uma relação; se estão espalhados, não há.\n",
    "\n",
    "Correlação mede a relação entre duas variáveis. Se for positiva, quando uma sobe, a outra também sobe. Se for negativa, quando uma sobe, a outra desce. Se for zero, não há relação. Quanto mais perto de 1, mais forte a relação positiva. Quanto mais perto de -1, mais forte a relação negativa. Se for 0, não há relação."
   ]
  },
  {
   "cell_type": "code",
   "execution_count": null,
   "metadata": {},
   "outputs": [],
   "source": [
    "df_modelagem = read_csv('data/cars-modelagem.csv')"
   ]
  },
  {
   "cell_type": "code",
   "execution_count": null,
   "metadata": {},
   "outputs": [],
   "source": [
    "# Como calcular correlações?\n",
    "\n",
    "correlacao_tamanho_motor_consumo = df_modelagem['tamanho_motor'].corr(df_modelagem['consumo_cidade'])\n",
    "print('Correlação entre tamanho do motor e consumo na cidade: ', correlacao_tamanho_motor_consumo)"
   ]
  },
  {
   "cell_type": "markdown",
   "metadata": {},
   "source": [
    "A correlação -0.65 indica uma correlação negativa moderada a forte entre o tamanho do motor e o consumo na cidade.\n",
    "\n",
    "🔹 Interpretação:\n",
    "À medida que o tamanho do motor aumenta, o consumo na cidade diminui (ou seja, o carro faz menos km/L). Isso faz sentido, pois motores maiores tendem a consumir mais combustível."
   ]
  },
  {
   "cell_type": "markdown",
   "metadata": {},
   "source": [
    "**Achando correlações entre todas as variáveis**\n",
    "\n",
    "Método: `DataFrame.corr()`\n",
    "\n",
    "O método DataFrame.corr() do pandas calcula a correlação entre as colunas numéricas de um DataFrame.\n",
    "\n",
    "Por padrão, usa o coeficiente de Pearson (mede relação linear entre variáveis).\n",
    "\n",
    "Retorna uma matriz de correlação onde valores próximos de 1 indicam correlação positiva forte, próximos de -1 indicam correlação negativa forte e próximos de 0 indicam pouca ou nenhuma correlação."
   ]
  },
  {
   "cell_type": "code",
   "execution_count": null,
   "metadata": {},
   "outputs": [],
   "source": [
    "# Escreva aqui o seu código\n",
    "df_modelagem.select_dtypes(include='number').corr()"
   ]
  },
  {
   "cell_type": "markdown",
   "metadata": {},
   "source": [
    "Perceba que, dessa maneira fica ruim de identificar boas relações, e para isso, há boas maneiras de visualizar essa matriz.\n",
    "\n",
    "**Como?**\n",
    "\n",
    "Com um mapa de calor.\n",
    "\n",
    "Um **mapa de calor** é uma visualização gráfica que representa valores em uma matriz usando cores.  \n",
    "\n",
    "🔹 **Uso em correlação:**  \n",
    "- Facilita a identificação de padrões e relações entre variáveis numéricas.  \n",
    "- Cores mais intensas indicam correlações mais fortes (positivas ou negativas).  "
   ]
  },
  {
   "cell_type": "code",
   "execution_count": null,
   "metadata": {},
   "outputs": [],
   "source": [
    "from seaborn import heatmap\n",
    "\n",
    "plt.figure(figsize=(16,6))\n",
    "heatmap(df_modelagem.select_dtypes(include='number').corr(), annot=True, cmap='coolwarm')\n",
    "plt.show()"
   ]
  },
  {
   "cell_type": "markdown",
   "metadata": {},
   "source": [
    "> Veja que há uma correlação forte e positiva entre **tamanho_motor** e **preco**.\n",
    "\n",
    "Vamos analisar mais detalhadamente essa relação."
   ]
  },
  {
   "cell_type": "code",
   "execution_count": null,
   "metadata": {},
   "outputs": [],
   "source": [
    "corr_tamanho_motor_preco = df_modelagem['tamanho_motor'].corr(df_modelagem['preco'])\n",
    "plt.scatter(df_modelagem['tamanho_motor'], df_modelagem['preco'])\n",
    "plt.xlabel('Tamanho do Motor')\n",
    "plt.ylabel('Preço')\n",
    "plt.title('Tamanho do Motor x Preço')\n",
    "plt.legend(['Correlação: ' + str(corr_tamanho_motor_preco)])\n",
    "plt.show()"
   ]
  },
  {
   "cell_type": "markdown",
   "metadata": {},
   "source": [
    "**Como a relação é bem forte, podemos pensar na implementação de algum modelo de regressão linear para analisar melhor essa relação.**"
   ]
  },
  {
   "cell_type": "markdown",
   "metadata": {},
   "source": [
    "---"
   ]
  },
  {
   "cell_type": "markdown",
   "metadata": {},
   "source": [
    "## **Regressão Linear**  \n",
    "A análise de correlação mostra que há uma **forte relação positiva** entre o tamanho do motor e o preço do carro ($r = 0.87$). Isso significa que, **à medida que o tamanho do motor aumenta, o preço tende a subir**.  \n",
    "\n",
    "#### **Breve Explicação** \n",
    "A regressão linear estima a relação entre uma variável independente ($X$, **tamanho do motor**) e uma variável dependente ($y$, **preço**), ajustando um modelo na forma:  \n",
    "\n",
    "$\n",
    "y = \\beta_0 + \\beta_1X + \\varepsilon\n",
    "$\n",
    "\n",
    "onde:  \n",
    "- $ y $ é o **preço do carro**,  \n",
    "- $ X $ é o **tamanho do motor**,  \n",
    "- $ \\beta_0 $ é o **intercepto** (valor de $ y $ quando $ X = 0 $),  \n",
    "- $ \\beta_1 $ é o **coeficiente angular** (quanto o preço varia a cada unidade do tamanho do motor),  \n",
    "- $ \\varepsilon $ é o **erro residual**.  \n",
    "\n",
    "#### **Interpretação dos Resultados**  \n",
    "\n",
    "1. **Coeficiente Angular ($\\beta_1$)**  \n",
    "   - Indica quanto o preço do carro **aumenta** para cada unidade adicional no tamanho do motor.  \n",
    "   - Se $\\beta_1 = 5000$, significa que um aumento de 1 unidade no tamanho do motor eleva o preço em **5000 unidades monetárias**.  \n",
    "\n",
    "2. **Intercepto ($\\beta_0$)**  \n",
    "   - Representa o preço do carro quando o tamanho do motor é **zero**.  \n",
    "   - Esse valor geralmente não tem interpretação prática nesse contexto.  \n",
    "\n",
    "3. **$ R^2 $ (Coeficiente de Determinação)**  \n",
    "   - Mede **quanto da variação do preço é explicada pelo tamanho do motor**.  \n",
    "   - Se $ R^2 = 0.76 $, significa que **76% da variação nos preços é explicada pelo tamanho do motor**.  \n",
    "\n",
    "4. **Valor-p ($ p $-value)**  \n",
    "   - Testa se a relação entre as variáveis é estatisticamente significativa.  \n",
    "   - Se $ p < 0.05 $, rejeitamos a hipótese nula e concluímos que **o tamanho do motor influencia significativamente o preço**.  "
   ]
  },
  {
   "cell_type": "code",
   "execution_count": null,
   "metadata": {},
   "outputs": [],
   "source": [
    "# Dropando valores nulos\n",
    "df_modelagem.dropna(inplace=True)"
   ]
  },
  {
   "cell_type": "code",
   "execution_count": null,
   "metadata": {},
   "outputs": [],
   "source": [
    "# Implementando o modelo\n",
    "import statsmodels.api as sm\n",
    "\n",
    "# Definir variável independente (X) e dependente (y)\n",
    "X = df_modelagem['tamanho_motor']\n",
    "y = df_modelagem['preco']\n",
    "\n",
    "# Adicionar constante (termo de intercepto)\n",
    "X = sm.add_constant(X)\n",
    "\n",
    "# Criar e ajustar o modelo\n",
    "modelo = sm.OLS(y, X).fit()\n",
    "\n",
    "# Exibir os resultados\n",
    "print(modelo.summary())"
   ]
  },
  {
   "cell_type": "markdown",
   "metadata": {},
   "source": [
    "### **O que os resultados nos dizem?**  \n",
    "\n",
    "1️ - **O modelo é bom?**  \n",
    "\n",
    "Sim! O **R² = 0.708** nos diz que **70,8% da variação do preço dos carros pode ser explicada pelo tamanho do motor**. Isso significa que o modelo consegue explicar boa parte da variação dos preços, mas ainda há outros fatores influenciando.  \n",
    "\n",
    "2️ - **O tamanho do motor afeta o preço?**  \n",
    "\n",
    "Sim! O coeficiente de **162.38** significa que **a cada aumento de 1 unidade no tamanho do motor, o preço do carro sobe em média R$ 162,38**.  \n",
    "\n",
    "3️ - **Os resultados são confiáveis?**  \n",
    "Sim! O **p-valor** do coeficiente do tamanho do motor é **menor que 0.05**, indicando que essa relação **não ocorre por acaso**.  \n",
    "\n",
    "4️ - **O intercepto (-7914.13) faz sentido?**  \n",
    "Não! Ele indica que, se o tamanho do motor fosse **zero**, o carro teria um preço de **-R$ 7.914,13**, o que não é realista. Esse valor surge porque a regressão linear força uma relação linear entre as variáveis.  \n",
    "\n",
    "---\n",
    "\n",
    "### **Conclusão**  \n",
    "O modelo confirma que **carros com motores maiores tendem a ser mais caros**.  \n",
    "Ele é **estatisticamente significativo**, mas poderia ser melhorado incluindo outras variáveis como consumo, potência e marca."
   ]
  },
  {
   "cell_type": "markdown",
   "metadata": {},
   "source": [
    "### **Visualizando a Reta**"
   ]
  },
  {
   "cell_type": "code",
   "execution_count": null,
   "metadata": {},
   "outputs": [],
   "source": [
    "# Regplot\n",
    "import seaborn as sns\n",
    "\n",
    "plt.figure(figsize=(10, 6))\n",
    "\n",
    "sns.regplot(x='tamanho_motor', y='preco', data=df_modelagem, line_kws={'color': 'red'})\n",
    "\n",
    "plt.xlabel('Tamanho do Motor')\n",
    "plt.ylabel('Preço')\n",
    "plt.title('Regressão Linear Simples')\n",
    "plt.show()"
   ]
  },
  {
   "cell_type": "markdown",
   "metadata": {},
   "source": [
    "---"
   ]
  },
  {
   "cell_type": "markdown",
   "metadata": {},
   "source": [
    "## **Ministrantes**\n",
    "\n",
    "<table>\n",
    "  <tr>\n",
    "    <td align=\"center\">\n",
    "      <a href=\"https://github.com/gabrielbpontes\">\n",
    "        <img style=\"border-radius: 50%;\" src=\"https://avatars.githubusercontent.com/u/127130171?s=48&v=4\" width=\"100px;\" alt=\"\"/>\n",
    "        <br />\n",
    "        <sub><b>Gabriel Pontes</b></sub>\n",
    "      </a>\n",
    "      <br/>\n",
    "      <a href=\"https://github.com/gabrielbpontes\" target=\"_blank\">\n",
    "        <img src=\"https://img.shields.io/badge/github-%23121011.svg?style=for-the-badge&logo=github&logoColor=white\" alt=\"GitHub\" style=\"padding-top: 10px;\">\n",
    "      </a>\n",
    "      <br/>\n",
    "      <a href=\"https://www.linkedin.com/in/gabriel-pontes-2152a9276/\" target=\"_blank\">\n",
    "        <img src=\"https://img.shields.io/badge/LinkedIn-%230077B5.svg?style=for-the-badge&logo=linkedin&logoColor=white\" alt=\"LinkedIn\" style=\"padding-top: 10px;\">\n",
    "      </a>\n",
    "    </td>\n",
    "    <td align=\"center\">\n",
    "      <a href=\"https://github.com/NercinoN21\">\n",
    "        <img style=\"border-radius: 50%;\" src=\"https://avatars.githubusercontent.com/u/86074258?v=4\" width=\"100px;\" alt=\"\"/>\n",
    "        <br />\n",
    "        <sub><b>Nercino Neto</b></sub>\n",
    "      </a>\n",
    "      <br />\n",
    "      <a href=\"https://github.com/NercinoN21\" target=\"_blank\">\n",
    "        <img src=\"https://img.shields.io/badge/github-%23121011.svg?style=for-the-badge&logo=github&logoColor=white\" alt=\"GitHub\" style=\"padding-top: 10px;\">\n",
    "      </a>\n",
    "      <br/>\n",
    "      <a href=\"https://www.linkedin.com/in/nercino-neto/\" target=\"_blank\">\n",
    "        <img src=\"https://img.shields.io/badge/LinkedIn-%230077B5.svg?style=for-the-badge&logo=linkedin&logoColor=white\" alt=\"LinkedIn\" style=\"padding-top: 10px;\">\n",
    "      </a>\n",
    "    </td>\n",
    "    <td align=\"center\">\n",
    "      <a href=\"https://github.com/pedrohmvv\">\n",
    "        <img style=\"border-radius: 50%;\" src=\"https://avatars.githubusercontent.com/u/139015105?v=4\" width=\"100px;\" alt=\"\"/>\n",
    "        <br />\n",
    "        <sub><b>Pedro Henrique</b></sub>\n",
    "      </a>\n",
    "      <br />\n",
    "      <a href=\"https://github.com/pedrohmvv\" target=\"_blank\">\n",
    "        <img src=\"https://img.shields.io/badge/github-%23121011.svg?style=for-the-badge&logo=github&logoColor=white\" alt=\"GitHub\" style=\"padding-top: 10px;\">\n",
    "      </a>\n",
    "      <br/>\n",
    "      <a href=\"https://www.linkedin.com/in/pedrohmv/\" target=\"_blank\">\n",
    "        <img src=\"https://img.shields.io/badge/LinkedIn-%230077B5.svg?style=for-the-badge&logo=linkedin&logoColor=white\" alt=\"LinkedIn\" style=\"padding-top: 10px;\">\n",
    "      </a>\n",
    "    </td>\n",
    "  </tr>\n",
    "</table>\n",
    "<br>"
   ]
  },
  {
   "cell_type": "markdown",
   "metadata": {},
   "source": [
    "### **Realização:**"
   ]
  },
  {
   "cell_type": "markdown",
   "metadata": {},
   "source": [
    "[<img align=\"left\" height=\"94px\" width=\"94px\" alt=\"LEMA\" src=\"https://www.ccsa.ufpb.br/lema/wp-content/uploads/sites/179/sites/180/2024/05/cropped-logo-lema.png\"/>](https://lema.ufpb.br/)\n",
    "\n",
    "**PPGA - UFPB** \\\n",
    "[**LEMA**](https://www.instagram.com/lemaufpb/) \\\n",
    "Projects: [SAEGO](https://lema.ufpb.br/saego/), [Preço da Hora](https://precodahora.tcepb.tc.br/)\n",
    "<br/>"
   ]
  }
 ],
 "metadata": {
  "kernelspec": {
   "display_name": "Python 3",
   "language": "python",
   "name": "python3"
  },
  "language_info": {
   "codemirror_mode": {
    "name": "ipython",
    "version": 3
   },
   "file_extension": ".py",
   "mimetype": "text/x-python",
   "name": "python",
   "nbconvert_exporter": "python",
   "pygments_lexer": "ipython3",
   "version": "3.11.9"
  }
 },
 "nbformat": 4,
 "nbformat_minor": 2
}
